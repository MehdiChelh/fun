{
 "cells": [
  {
   "cell_type": "markdown",
   "metadata": {},
   "source": [
    "# <center>Exemple 1 : Un labyrinthe *(en cours)*</center>"
   ]
  },
  {
   "cell_type": "markdown",
   "metadata": {},
   "source": [
    "Notebook rédigé à partir du livre [Reinforcement Learning: An Introduction. Richard S. Sutton and Andrew G. Bart](http://incompleteideas.net/book/bookdraft2018jan1.pdf), ainsi que des notes de cours disponibles ici:\n",
    "- http://www0.cs.ucl.ac.uk/staff/d.silver/web/Teaching.html\n",
    "- http://rll.berkeley.edu/deeprlcourse/\n",
    "\n",
    "\n"
   ]
  },
  {
   "cell_type": "markdown",
   "metadata": {},
   "source": [
    "\n",
    "<img src=\"img/labyrinth animation.gif\" width=\"350px\"/>"
   ]
  },
  {
   "cell_type": "markdown",
   "metadata": {},
   "source": [
    "# Rappels apprentissage par renforcement"
   ]
  },
  {
   "cell_type": "markdown",
   "metadata": {},
   "source": [
    "### <span style=\"color:rgb(130, 0, 130)\">Trois composantes importantes de la prise de décision</span>\n",
    "- **Value function** = prediction du gain espéré\n",
    "- **Policy** = comportement de l'agent\n",
    "- **Model** = représentation de l'agent de l'environnement, permet de prédire comment l'environnement va réagir aux actions de l'agent\n",
    "\n",
    "### <span style=\"color:rgb(130, 0, 130)\">RL Agents</span>\n",
    "On a différentes catégories d'agents :\n",
    "- **Value Based**\n",
    "    - Value function (policy implicite, déduite de la value function)\n",
    "- **Policy Based**\n",
    "    - Policy (pas de value function)\n",
    "- **Actor Critic**\n",
    "    - Policy\n",
    "    - Value function\n",
    "\n",
    "- Approche **Model Free** = l'agent se comporte sans se soucier de comment l'environnement va réagir\n",
    "- Approche **Model Based** = l'agent se comporte en fonction de ce qu'il sait sur ce que l'environnement va probablement faire\n",
    "\n",
    "### <span style=\"color:rgb(130, 0, 130)\">Learning vs Planning</span>\n",
    "Cadre du **Reinforcement Learning** :\n",
    "- **L'environnement** initialement **inconnu**\n",
    "- **Expérience** : L'agent intéragit avec son environnement\n",
    "- **Amélioration de la policy** (implicite ou non) de l'agent\n",
    "- <span style=\"color:rgb(100, 100, 100)\">*Permet de prendre des décisions en fonction de l'expérience / de manière intuitive*</span>\n",
    "\n",
    "Cadre du **Planning** :\n",
    "- **L'environnement** initialement **connu**\n",
    "- L'agent cherche la **policy optimale**\n",
    "- *<span style=\"color:rgb(100, 100, 100)\">Permet de prendre des décisions rationnelles et justifiées par le calcul*</span>\n",
    "\n",
    "### <span style=\"color:rgb(130, 0, 130)\">Exploration vs Exploitation</span>\n",
    "Dans le cadre du **reinforcement learning** on retrouve le classique trade-off exploration vs exploitation\n",
    "\n",
    "\n",
    "### <span style=\"color:rgb(130, 0, 130)\">Prediction vs Control</span>\n",
    "\n",
    "- **Prediction** = évaluer le future en fonction d'une certaine policy.\n",
    "- **Control** = Trouver la meilleur policy"
   ]
  },
  {
   "cell_type": "markdown",
   "metadata": {},
   "source": [
    "----\n",
    "# Plan\n",
    "1. **Environnement proposé ici**\n",
    "2. **On-policy learning**\n",
    "    1. Monte Carlo\n",
    "    2. Temporal-difference learning - $TD(0)$\n",
    "         1. *Avec une epsilon-greedy policy*\n",
    "         2. *Avec une policy de type UCB*\n",
    "    3. Temporal-difference learning - $TD(\\lambda)$\n",
    "3. **Off-Policy Learning**\n",
    "    1. Q-Learning\n",
    "----"
   ]
  },
  {
   "cell_type": "markdown",
   "metadata": {},
   "source": []
  },
  {
   "cell_type": "markdown",
   "metadata": {},
   "source": [
    "# 1. Environnement proposé ici\n",
    "\n",
    "L'environnement proposé ci-dessous est relativement simple, c'est en outre la raison pour laquelle il a été choisi.\n",
    "\n",
    "L'agent par initialement du coin en haut à gauche (point blanc) et il doit arriver dans le coin en bas à droite (point rouche), qui coresspond à l'état terminal, pour recevoir un reward positif. Les cases rouges donnent un reward faiblement négatif (sauf la case terminal qui donne un reward fortement positif) et les cases bleues donnent un reward fortement négatif.\n",
    "\n",
    "<img src=\"img/labyrinth.png\" width=\"300px\" />\n",
    "\n",
    "On se place dans un problème de contrôle sans connaissance sur le fonctionnement de l'environnement (model-free).\n",
    "L'agent se déplace dans un espace à 2 dimension, de taille finie : [0, 4]x[0, 8].\n",
    "\n",
    "* On a un nombre fini d'états. \n",
    "* Model-free : on ne connait pas les rewards et les probabilités de changement d'état associées aux actions (Rq : ici S|A est déterministe)\n",
    "* L'agent choisi parmis 4 ations : monter d'une case, descendre d'une case, se délpacer d'une case à droite, se délpacer d'une case à gauche"
   ]
  },
  {
   "cell_type": "code",
   "execution_count": 117,
   "metadata": {
    "collapsed": true
   },
   "outputs": [],
   "source": [
    "%matplotlib inline\n",
    "import numpy as np\n",
    "import matplotlib.pyplot as plt\n",
    "\n",
    "from matplotlib import animation, rc\n",
    "from IPython.display import HTML"
   ]
  },
  {
   "cell_type": "code",
   "execution_count": 761,
   "metadata": {
    "collapsed": false
   },
   "outputs": [],
   "source": [
    "# Labyrinthe : \n",
    "tab = - 1 - 9* np.array(\n",
    "    [[0,1,1,0,1,1,1,0,1], \n",
    "     [0,0,1,1,0,1,1,0,0], \n",
    "     [1,0,0,0,0,1,0,0,0], \n",
    "     [1,1,1,1,0,0,0,1,0], \n",
    "     [1,1,1,1,0,0,0,1,0]])\n",
    "tab[4][8] = 100000"
   ]
  },
  {
   "cell_type": "code",
   "execution_count": 689,
   "metadata": {
    "collapsed": false
   },
   "outputs": [],
   "source": [
    "class Agent:\n",
    "    pos = None\n",
    "    actions = {'up':(0,-1), 'down':(0,1), 'left':(-1,0), 'right':(1,0)}\n",
    "    actions_list = ['up', 'down', 'left', 'right']\n",
    "    actions_dic = {'up':0, 'down':1, 'left':2, 'right':3}\n",
    "    x_max = None\n",
    "    y_max = None\n",
    "    \n",
    "    def __init__(self, maze, epsilon = 0.7):\n",
    "        self.pos = (0,0)\n",
    "        self.maze = maze\n",
    "        self.x_max = maze.shape[1] - 1\n",
    "        self.y_max = maze.shape[0] - 1\n",
    "        self.r_episode = [] # list of reward per episode\n",
    "        \n",
    "        self.Q = np.zeros((maze.shape[1], maze.shape[0], 4))\n",
    "        self.terminal = (self.x_max, self.y_max)\n",
    "        self.epsilon = epsilon\n",
    "        self.t = 1\n",
    "        self.N_t = np.ones(agent.Q.shape)\n",
    "        \n",
    "    def isterminal(self):\n",
    "        return (self.pos == self.terminal)\n",
    "        \n",
    "    def move(self, a):\n",
    "        x, y = self.pos\n",
    "        dx, dy = self.actions[a]\n",
    "        new_x = min(max(0, x + dx), self.x_max)\n",
    "        new_y = min(max(0, y + dy), self.y_max)\n",
    "        self.old_pos = self.pos\n",
    "        self.pos = (new_x, new_y)\n",
    "        self.t += 1\n",
    "        self.N_t[x, y, self.actions_dic[a]] +=1\n",
    "    \n",
    "    def plot(self):\n",
    "        tab = np.copy(self.maze)\n",
    "        tab[4,8] = 20\n",
    "        plt.imshow(tab, interpolation = 'none')\n",
    "        plt.autoscale(False)\n",
    "        plt.plot([self.x_max], [self.y_max], 'ro')\n",
    "        plt.plot([self.pos[0]], [self.pos[1]], 'ws')\n",
    "    \n",
    "    def plot_policy(self, policy=\"epsilon\"):\n",
    "        fix, ax = plt.subplots()\n",
    "        tab_ = 101000*np.copy(self.maze) - 1000\n",
    "        tab_[4,8] = 20\n",
    "        ax.imshow(tab_, interpolation='none')\n",
    "        \n",
    "        if policy == \"UCB\":\n",
    "            Q = self.Q + np.sqrt(2*np.log(self.t)/self.N_t)\n",
    "        elif policy == \"epsilon\":\n",
    "            Q = self.Q\n",
    "            \n",
    "        for y in range(5):\n",
    "            for x in range(9):\n",
    "                if (x,y) == (8,4):\n",
    "                    break\n",
    "                Q_max = max(Q[x, y , :])\n",
    "                if Q_max == Q[x, y , 0]:\n",
    "                    ax.arrow(x, y+0.25, 0, -0.5, head_width=0.2, head_length=0.1)\n",
    "                if Q_max == Q[x, y , 1]:\n",
    "                    ax.arrow(x, y-0.25, 0, +0.5, head_width=0.2, head_length=0.1)\n",
    "                if Q_max == Q[x, y , 2]:\n",
    "                    ax.arrow(x+0.25, y, -0.5, 0, head_width=0.2, head_length=0.1)\n",
    "                if Q_max == Q[x, y , 3]:\n",
    "                    ax.arrow(x-0.25, y, 0.5, 0, head_width=0.2, head_length=0.1)\n",
    "    \n",
    "    def e_greedy_policy(self, epsilon):\n",
    "        x, y = self.pos\n",
    "        \n",
    "        # Dans le cas où toutes les actions sont équivalentes on ne considère pas d'epsilon-greedy policy\n",
    "        # Toutes les situations sont égalements envisagées\n",
    "        if min(self.Q[x, y,:]) != max(self.Q[x, y,:]):\n",
    "            # On cherche la plus grande valeur\n",
    "            a_index = np.argmax(self.Q[x, y,:])\n",
    "            \n",
    "            # On construit les probas\n",
    "            p = epsilon/4\n",
    "            probabilities = [p, p, p, p]\n",
    "            probabilities[a_index] = 1 - 3*p\n",
    "            choice_ = np.random.choice(self.actions_list, p = probabilities)\n",
    "            \n",
    "        # Tous les choix sont équivalents en terme de proba\n",
    "        else:\n",
    "            choice_ = np.random.choice(self.actions_list)\n",
    "            \n",
    "        return choice_, self.actions_dic[choice_]\n",
    "    \n",
    "    def UCB_policy(self):\n",
    "        x, y = self.pos\n",
    "        upper_conf_bound = self.Q[x, y,:] + np.sqrt(2*np.log(self.t)/self.N_t[x, y, :])\n",
    "        a_index = np.argmax(upper_conf_bound)\n",
    "        \n",
    "        return self.actions_list[a_index], a_index\n",
    "    \n",
    "    \n",
    "    def observe_reward(self):\n",
    "        return self.maze.T[self.pos]\n",
    "    \n",
    "    def rand_choice_action(self):\n",
    "        return np.random.choice(self.actions_list)\n",
    "    \n",
    "    def rand_move(self):\n",
    "        self.move(self.rand_choice_action())"
   ]
  },
  {
   "cell_type": "code",
   "execution_count": 690,
   "metadata": {
    "collapsed": false
   },
   "outputs": [
    {
     "data": {
      "image/png": "[encoded data removed]",
      "text/plain": [
       "<matplotlib.figure.Figure at 0x1148fc710>"
      ]
     },
     "metadata": {},
     "output_type": "display_data"
    }
   ],
   "source": [
    "agent = Agent(tab2)\n",
    "agent.plot_policy(\"epsilon\")"
   ]
  },
  {
   "cell_type": "markdown",
   "metadata": {},
   "source": [
    "Initialement, pour chaque état, l'agent n'a pas d'actions privlégiées."
   ]
  },
  {
   "cell_type": "markdown",
   "metadata": {},
   "source": [
    "# 2. On-policy learning"
   ]
  },
  {
   "cell_type": "markdown",
   "metadata": {},
   "source": [
    "## 2.B. Monte-Carlo\n",
    " \n",
    "On observe ici chaque épisode en intégralité avant de faire évoluer la fonction valeur et la policy : \n",
    "\n",
    "<img src=\"img/Monte-Carlo control.png\" width=\"400px\" />\n",
    "\n",
    "**Théorème :** GLIE (Greedy In The Limit with Infinite Exploration) Monte-Carlo control converge vers la fonction valeur optimale satisfaisant l'équation de Bellman. $\\widehat q(s, a) \\rightarrow q(s, a)$\n",
    "\n",
    "**Conditions GLIE :**\n",
    "- Toutes les paires état-action sont explorées une infinité de fois\n",
    "- La policy converge vers une greedy-policy\n",
    "\n",
    "**Exemple :**\n",
    "<div style=\"border:1px solid black; width:400px; margin:auto; margin-top:20px\"><img src=\"img/Monte-Carlo control algo.png\" width=\"400px\" /></div>"
   ]
  },
  {
   "cell_type": "markdown",
   "metadata": {},
   "source": [
    " ## 2.B. Algorithme SARSA"
   ]
  },
  {
   "cell_type": "markdown",
   "metadata": {},
   "source": [
    "<img src=\"img/schema_sarsa.png\" width=\"400px\"/>"
   ]
  },
  {
   "cell_type": "code",
   "execution_count": 726,
   "metadata": {
    "collapsed": true
   },
   "outputs": [],
   "source": [
    "alpha = 1\n",
    "gamma = 0.9\n",
    "\n",
    "def train_sarsa(n_episodes, init_pos=None, policy=\"epsilon\"):\n",
    "    for i in range(n_episodes):\n",
    "        if init_pos:\n",
    "            agent.pos = init_pos\n",
    "        else:\n",
    "            agent.pos = (np.random.randint(0, 9), np.random.randint(0, 5))\n",
    "\n",
    "        \n",
    "        if policy == \"epsilon\":\n",
    "            epsilon = 1.0 / (1 + min(agent.N_t[agent.pos[0], agent.pos[1], :]))\n",
    "            a, a_index = agent.e_greedy_policy(epsilon)\n",
    "        elif policy == \"UCB\":\n",
    "            a, a_index = agent.UCB_policy()\n",
    "        ep = [a]\n",
    "        r_episode = 0\n",
    "        while True:\n",
    "            # take action a\n",
    "            old_x, old_y = agent.pos\n",
    "            agent.move(a)\n",
    "            new_x, new_y = agent.pos\n",
    "\n",
    "            # observe r and s'\n",
    "            r = agent.observe_reward()\n",
    "            r_episode += r\n",
    "            \n",
    "            # choose a' from s' using policy derived from Q\n",
    "            if policy == \"epsilon\":\n",
    "                epsilon = 1.0 / (1 + min(agent.N_t[agent.pos[0], agent.pos[1], :]))\n",
    "                a_, a_index_ = agent.e_greedy_policy(epsilon)\n",
    "                print(\"\\rEpisode :\", i, \"\\tPosition :\", agent.pos, end=\"\")#\"\\tUCB :\", ucb, end=\"\")\n",
    "            elif policy == \"UCB\":\n",
    "                a_, a_index_ = agent.UCB_policy()\n",
    "                ucb = agent.Q[old_x, old_y,:] + np.sqrt(2*np.log(agent.t)/agent.N_t[old_x, old_y, :])\n",
    "                print(\"\\rEpisode :\", i, \"\\tPosition :\", agent.pos, \"\\tUCB :\", ucb, end=\"\")\n",
    "            \n",
    "            # update Q\n",
    "            agent.Q[old_x, old_y, a_index] += alpha/agent.N_t[old_x, old_y, a_index]*(r + gamma*agent.Q[new_x, new_y, a_index_] - agent.Q[old_x, old_y, a_index])\n",
    "            \n",
    "            # iter with new a and s\n",
    "            a = a_\n",
    "            a_index = a_index_\n",
    "            ep.append(a)\n",
    "            if agent.isterminal():\n",
    "                break        \n",
    "        agent.r_episode.append(r_episode)"
   ]
  },
  {
   "cell_type": "markdown",
   "metadata": {},
   "source": [
    "### 2.B.1 $A'\\sim\\varepsilon-greedy$"
   ]
  },
  {
   "cell_type": "markdown",
   "metadata": {},
   "source": [
    "Le choix de A' se fait selon une stratégie $\\varepsilon-greedy$ avec epsilon décroissant en $1/N_t(s,a)$"
   ]
  },
  {
   "cell_type": "code",
   "execution_count": 727,
   "metadata": {
    "collapsed": false,
    "scrolled": true
   },
   "outputs": [
    {
     "name": "stdout",
     "output_type": "stream",
     "text": [
      "Episode : 999 \tPosition : (8, 4)"
     ]
    },
    {
     "data": {
      "image/png": "[encoded data removed]",
      "text/plain": [
       "<matplotlib.figure.Figure at 0x113dff9e8>"
      ]
     },
     "metadata": {},
     "output_type": "display_data"
    }
   ],
   "source": [
    "# On initialise l'agent\n",
    "agent = Agent(maze=tab)\n",
    "\n",
    "train_sarsa(1000, policy=\"epsilon\")\n",
    "\n",
    "agent.plot_policy()"
   ]
  },
  {
   "cell_type": "code",
   "execution_count": 749,
   "metadata": {
    "collapsed": false
   },
   "outputs": [
    {
     "data": {
      "text/plain": [
       "<matplotlib.text.Text at 0x1144674e0>"
      ]
     },
     "execution_count": 749,
     "metadata": {},
     "output_type": "execute_result"
    },
    {
     "data": {
      "image/png": "[encoded data removed]",
      "text/plain": [
       "<matplotlib.figure.Figure at 0x11ce4b048>"
      ]
     },
     "metadata": {},
     "output_type": "display_data"
    }
   ],
   "source": [
    "y = np.array(agent.r_episode)\n",
    "y_norm = (y - y.min())/(y.max()-y.min())\n",
    "plt.plot(y_norm)\n",
    "plt.ylim(ymax=1.05)\n",
    "plt.title(\"Reward par épisode\")"
   ]
  },
  {
   "cell_type": "code",
   "execution_count": 750,
   "metadata": {
    "collapsed": false,
    "scrolled": true
   },
   "outputs": [
    {
     "data": {
      "text/plain": [
       "<matplotlib.text.Text at 0x1253bda90>"
      ]
     },
     "execution_count": 750,
     "metadata": {},
     "output_type": "execute_result"
    },
    {
     "data": {
      "image/png": "[encoded data removed]",
      "text/plain": [
       "<matplotlib.figure.Figure at 0x1148e59e8>"
      ]
     },
     "metadata": {},
     "output_type": "display_data"
    }
   ],
   "source": [
    "l = []\n",
    "steps = 100\n",
    "for i in range(steps):\n",
    "    size = int(len(y_norm)/steps)\n",
    "    l.append(y_norm[i*size:(i+1)*size].mean())\n",
    "plt.plot(l)\n",
    "plt.ylim(ymax=1.01)\n",
    "plt.title(\"Reward moyen pris tous les 100 épisodes\")"
   ]
  },
  {
   "cell_type": "markdown",
   "metadata": {},
   "source": [
    "### 2.1.2 Policy de type UCB"
   ]
  },
  {
   "cell_type": "code",
   "execution_count": 718,
   "metadata": {
    "collapsed": false,
    "scrolled": true
   },
   "outputs": [
    {
     "name": "stdout",
     "output_type": "stream",
     "text": [
      "Episode : 999 \tPosition : (8, 4) \tUCB : [2.77520061e+00 2.02883728e+05 4.63183313e+00 4.63183313e+00]"
     ]
    },
    {
     "data": {
      "image/png": "[encoded data removed]",
      "text/plain": [
       "<matplotlib.figure.Figure at 0x109982eb8>"
      ]
     },
     "metadata": {},
     "output_type": "display_data"
    }
   ],
   "source": [
    "train_sarsa(1000, policy=\"UCB\")\n",
    "\n",
    "agent.plot_policy()"
   ]
  },
  {
   "cell_type": "code",
   "execution_count": 722,
   "metadata": {
    "collapsed": false
   },
   "outputs": [
    {
     "data": {
      "text/plain": [
       "<matplotlib.text.Text at 0x1235077b8>"
      ]
     },
     "execution_count": 722,
     "metadata": {},
     "output_type": "execute_result"
    },
    {
     "data": {
      "image/png": "[encoded data removed]",
      "text/plain": [
       "<matplotlib.figure.Figure at 0x11cdd0240>"
      ]
     },
     "metadata": {},
     "output_type": "display_data"
    }
   ],
   "source": [
    "y = np.array(agent.r_episode)\n",
    "y_norm = (y - y.min())/(y.max()-y.min())\n",
    "plt.plot(y_norm)\n",
    "plt.ylim(ymax=1.05)\n",
    "plt.title(\"Reward par épisode\")"
   ]
  },
  {
   "cell_type": "code",
   "execution_count": 724,
   "metadata": {
    "collapsed": false,
    "scrolled": true
   },
   "outputs": [
    {
     "data": {
      "text/plain": [
       "<matplotlib.text.Text at 0x1382535c0>"
      ]
     },
     "execution_count": 724,
     "metadata": {},
     "output_type": "execute_result"
    },
    {
     "data": {
      "image/png": "[encoded data removed]",
      "text/plain": [
       "<matplotlib.figure.Figure at 0x138635550>"
      ]
     },
     "metadata": {},
     "output_type": "display_data"
    }
   ],
   "source": [
    "l = []\n",
    "steps = 100\n",
    "for i in range(steps):\n",
    "    size = int(len(y_norm)/steps)\n",
    "    l.append(y_norm[i*size:(i+1)*size].mean())\n",
    "plt.plot(l)\n",
    "plt.ylim(ymax=1.01)\n",
    "plt.title(\"Reward moyen pris tous les 100 épisodes\")"
   ]
  },
  {
   "cell_type": "markdown",
   "metadata": {},
   "source": [
    "*1.00 = reward maximal constaté sur l'ensemble des épisodes*\n",
    "\n",
    "\n",
    "Les chutent de récompenses sur le graphe correspondent aux cas où l'agent s'est retrouvé coïncé dans la 4ème colonne, 1ère ligne. Il faut alors un certains temps pour que l'action d'aller en haut lorsqu'il est dans cette case (ce qui revient à rester sur place et perdre -1 à chaque étape) soit perçue comme mauvaise.\n",
    "En effet, lorsqu'il choisit de rester dans cette case, la valeur de la fonction Q associée à ce choix va décroitre, puisqu'il va recevoir un gain négatif à chaque étape, en outre l'incertitude sur la valeur des autre actions croit en $\\sqrt(log(t))$, ce qui ammène par la suite l'agent à privilégier un autre choix que celui de rester dans cette case."
   ]
  },
  {
   "cell_type": "markdown",
   "metadata": {},
   "source": [
    "# 2.C. $TD(\\lambda)-learning $"
   ]
  },
  {
   "cell_type": "code",
   "execution_count": 802,
   "metadata": {
    "collapsed": true
   },
   "outputs": [],
   "source": [
    "#alpha_n = np.ones(agent.Q.shape)\n",
    "gamma = 0.9 # discount factor\n",
    "lambda_ = 0.6 # weight for the importance of long vs short TD (lambda = 1 is when we only consider long TD)\n",
    "\n",
    "def train_sarsa_lambda(n_episodes, init_pos=None, policy=\"epsilon\"):\n",
    "    for i in range(n_episodes):\n",
    "        \n",
    "        # ------ Eligibyty ------\n",
    "        eligibility = np.zeros(agent.Q.shape)\n",
    "        \n",
    "        # pour éventuellement améliorer la convergence \n",
    "        # on initialise au point de départ. Il faudra \n",
    "        # checker ce qui se passe si l'on initialise aléatoirement\n",
    "        #agent.pos = init_pos\n",
    "        if init_pos:\n",
    "            agent.pos = init_pos\n",
    "        else:\n",
    "            agent.pos = (np.random.randint(0, 9), np.random.randint(0, 5))\n",
    "        \n",
    "        if policy == \"epsilon\":\n",
    "            epsilon = 1.0 / (1 + min(agent.N_t[agent.pos[0], agent.pos[1], :]))\n",
    "            a, a_index = agent.e_greedy_policy(epsilon)\n",
    "        elif policy == \"UCB\":\n",
    "            a_, a_index_ = agent.UCB_policy()\n",
    "        r_episode = 0\n",
    "        \n",
    "        while True:\n",
    "            # Take action a\n",
    "            old_x, old_y = agent.pos\n",
    "            agent.move(a)\n",
    "            new_x, new_y  = agent.pos\n",
    "\n",
    "            # Observe R and S'\n",
    "            r = agent.observe_reward()\n",
    "            r_episode += r\n",
    "            \n",
    "            # ----- Update Eligibility ----\n",
    "            eligibility[old_x, old_y, a_index] += 1\n",
    "\n",
    "            # Choose A' from S' using policy derived from Q\n",
    "            if policy == \"epsilon\":\n",
    "                epsilon = 1.0 / (1 + min(agent.N_t[agent.pos[0], agent.pos[1], :]))\n",
    "                a_, a_index_ = agent.e_greedy_policy(epsilon)\n",
    "                print(\"\\rEpisode :\", i, \"\\tPosition :\", agent.pos, end=\"\")\n",
    "            elif policy == \"UCB\":\n",
    "                a_, a_index_ = agent.UCB_policy()\n",
    "                ucb = agent.Q[old_x, old_y,:] + np.sqrt(2*np.log(agent.t)/agent.N_t[old_x, old_y, :])\n",
    "                print(\"\\rEpisode :\", i, \"\\tPosition :\", agent.pos, \"\\tUCB :\", ucb, end=\"\")\n",
    "            \n",
    "\n",
    "            # Update Q(s,a) for all s and a\n",
    "            delta = r + gamma*agent.Q[new_x, new_y, a_index_] - agent.Q[old_x, old_y, a_index]\n",
    "            agent.Q += (1/agent.N_t) * eligibility * delta\n",
    "            agent.N_t[old_x, old_y, a_index] += 1\n",
    "            \n",
    "            # ----- Update All Eligibilities ----\n",
    "            eligibility *= lambda_*gamma\n",
    "            \n",
    "            # Iter with new a and s\n",
    "            a = a_\n",
    "            a_index = a_index_\n",
    "            if agent.isterminal():\n",
    "                break\n",
    "        agent.r_episode.append(r_episode)"
   ]
  },
  {
   "cell_type": "markdown",
   "metadata": {},
   "source": [
    "### 2.C.1 $A'\\sim\\varepsilon-greedy$"
   ]
  },
  {
   "cell_type": "markdown",
   "metadata": {},
   "source": [
    "Le choix de A' se fait selon une stratégie $\\varepsilon-greedy$ avec epsilon décroissant en $1/N_t(s,a)$"
   ]
  },
  {
   "cell_type": "code",
   "execution_count": 798,
   "metadata": {
    "collapsed": false
   },
   "outputs": [
    {
     "name": "stdout",
     "output_type": "stream",
     "text": [
      "Episode : 999 \tPosition : (8, 4)"
     ]
    }
   ],
   "source": [
    "agent = Agent(maze=tab)\n",
    "\n",
    "train_sarsa_lambda(1000, policy=\"epsilon\")"
   ]
  },
  {
   "cell_type": "code",
   "execution_count": 799,
   "metadata": {
    "collapsed": false,
    "scrolled": true
   },
   "outputs": [
    {
     "data": {
      "image/png": "[encoded data removed]",
      "text/plain": [
       "<matplotlib.figure.Figure at 0x1267d6b00>"
      ]
     },
     "metadata": {},
     "output_type": "display_data"
    }
   ],
   "source": [
    "agent.plot_policy()"
   ]
  },
  {
   "cell_type": "code",
   "execution_count": 800,
   "metadata": {
    "collapsed": false
   },
   "outputs": [
    {
     "data": {
      "text/plain": [
       "<matplotlib.text.Text at 0x10c103128>"
      ]
     },
     "execution_count": 800,
     "metadata": {},
     "output_type": "execute_result"
    },
    {
     "data": {
      "image/png": "[encoded data removed]",
      "text/plain": [
       "<matplotlib.figure.Figure at 0x126f4ad30>"
      ]
     },
     "metadata": {},
     "output_type": "display_data"
    }
   ],
   "source": [
    "y = np.array(agent.r_episode)\n",
    "y_norm = (y - y.min())/(y.max()-y.min())\n",
    "plt.plot(y_norm)\n",
    "plt.ylim(ymax=1.05)\n",
    "plt.title(\"Reward par épisode\")"
   ]
  },
  {
   "cell_type": "code",
   "execution_count": 801,
   "metadata": {
    "collapsed": false,
    "scrolled": true
   },
   "outputs": [
    {
     "data": {
      "text/plain": [
       "<matplotlib.text.Text at 0x11359f7b8>"
      ]
     },
     "execution_count": 801,
     "metadata": {},
     "output_type": "execute_result"
    },
    {
     "data": {
      "image/png": "[encoded data removed]",
      "text/plain": [
       "<matplotlib.figure.Figure at 0x10ab73710>"
      ]
     },
     "metadata": {},
     "output_type": "display_data"
    }
   ],
   "source": [
    "l = []\n",
    "steps = 100\n",
    "for i in range(steps):\n",
    "    size = int(len(y_norm)/steps)\n",
    "    l.append(y_norm[i*size:(i+1)*size].mean())\n",
    "plt.plot(l)\n",
    "plt.ylim(ymax=1.01)\n",
    "plt.title(\"Reward moyen pris tous les 100 épisodes\")"
   ]
  },
  {
   "cell_type": "markdown",
   "metadata": {},
   "source": [
    "Semble converger plus rapidemment que TD(0) vu précédemment"
   ]
  },
  {
   "cell_type": "markdown",
   "metadata": {},
   "source": [
    "### 2.1.2 Policy de type UCB"
   ]
  },
  {
   "cell_type": "code",
   "execution_count": 823,
   "metadata": {
    "collapsed": false,
    "scrolled": true
   },
   "outputs": [
    {
     "name": "stdout",
     "output_type": "stream",
     "text": [
      "Episode : 999 \tPosition : (8, 4) \tUCB : [2.84061610e+00 1.87500048e+05 4.72434460e+00 4.72434460e+00]"
     ]
    }
   ],
   "source": [
    "agent = Agent(maze=tab)\n",
    "\n",
    "train_sarsa(1000, policy=\"UCB\")"
   ]
  },
  {
   "cell_type": "code",
   "execution_count": 824,
   "metadata": {
    "collapsed": false
   },
   "outputs": [
    {
     "data": {
      "image/png": "[encoded data removed]",
      "text/plain": [
       "<matplotlib.figure.Figure at 0x1155474e0>"
      ]
     },
     "metadata": {},
     "output_type": "display_data"
    }
   ],
   "source": [
    "agent.plot_policy()"
   ]
  },
  {
   "cell_type": "code",
   "execution_count": 825,
   "metadata": {
    "collapsed": false
   },
   "outputs": [
    {
     "data": {
      "text/plain": [
       "<matplotlib.text.Text at 0x115671470>"
      ]
     },
     "execution_count": 825,
     "metadata": {},
     "output_type": "execute_result"
    },
    {
     "data": {
      "image/png": "[encoded data removed]",
      "text/plain": [
       "<matplotlib.figure.Figure at 0x115703b00>"
      ]
     },
     "metadata": {},
     "output_type": "display_data"
    }
   ],
   "source": [
    "y = np.array(agent.r_episode)\n",
    "y_norm = (y - y.min())/(y.max()-y.min())\n",
    "plt.plot(y_norm)\n",
    "plt.ylim(ymax=1.05)\n",
    "plt.title(\"Reward par épisode\")"
   ]
  },
  {
   "cell_type": "code",
   "execution_count": 826,
   "metadata": {
    "collapsed": false,
    "scrolled": true
   },
   "outputs": [
    {
     "data": {
      "text/plain": [
       "<matplotlib.text.Text at 0x1155c6ba8>"
      ]
     },
     "execution_count": 826,
     "metadata": {},
     "output_type": "execute_result"
    },
    {
     "data": {
      "image/png": "[encoded data removed]",
      "text/plain": [
       "<matplotlib.figure.Figure at 0x11565f080>"
      ]
     },
     "metadata": {},
     "output_type": "display_data"
    }
   ],
   "source": [
    "l = []\n",
    "steps = 100\n",
    "for i in range(steps):\n",
    "    size = int(len(y_norm)/steps)\n",
    "    l.append(y_norm[i*size:(i+1)*size].mean())\n",
    "plt.plot(l)\n",
    "plt.ylim(ymax=1.01)\n",
    "plt.title(\"Reward moyen pris tous les 100 épisodes\")"
   ]
  },
  {
   "cell_type": "markdown",
   "metadata": {},
   "source": [
    "1.00 = reward maximal constaté sur l'ensemble des épisodes"
   ]
  }
 ],
 "metadata": {
  "anaconda-cloud": {},
  "kernelspec": {
   "display_name": "Python [Root]",
   "language": "python",
   "name": "Python [Root]"
  },
  "language_info": {
   "codemirror_mode": {
    "name": "ipython",
    "version": 3
   },
   "file_extension": ".py",
   "mimetype": "text/x-python",
   "name": "python",
   "nbconvert_exporter": "python",
   "pygments_lexer": "ipython3",
   "version": "3.5.1"
  }
 },
 "nbformat": 4,
 "nbformat_minor": 2
}
